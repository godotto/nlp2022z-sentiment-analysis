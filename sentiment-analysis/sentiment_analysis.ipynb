{
  "cells": [
    {
      "cell_type": "code",
      "execution_count": 1,
      "metadata": {
        "colab": {
          "base_uri": "https://localhost:8080/"
        },
        "id": "IzCTIRKz9_6I",
        "outputId": "609974b9-6d3f-4d9e-f770-d7a9a6002bfc"
      },
      "outputs": [],
      "source": [
        "import functools\n",
        "import sys\n",
        "from time import sleep\n",
        "\n",
        "from enum import Enum\n",
        "\n",
        "import torch\n",
        "import torchtext\n",
        "import torch.nn as nn\n",
        "import torch.nn.functional as F\n",
        "from torch.utils.data import Dataset\n",
        "from torch.utils.data import DataLoader\n",
        "import torchmetrics\n",
        "from torchmetrics import Accuracy, Precision, F1Score\n",
        "\n",
        "import spacy\n",
        "import spacy_fastlang\n",
        "\n",
        "from sklearn import preprocessing\n",
        "\n",
        "from transformers import BertTokenizer, BertModel\n",
        "\n",
        "import pandas as pd\n",
        "\n",
        "from tqdm.notebook import tqdm\n",
        "\n",
        "from torch.utils.tensorboard import SummaryWriter"
      ]
    },
    {
      "cell_type": "code",
      "execution_count": 2,
      "metadata": {
        "id": "TfWx3hVG9_6M"
      },
      "outputs": [],
      "source": [
        "class TokenizerType(Enum):\n",
        "    SPACY = 1\n",
        "    BERT = 2"
      ]
    },
    {
      "cell_type": "code",
      "execution_count": 3,
      "metadata": {
        "id": "Fb3JbmgK0sOS"
      },
      "outputs": [],
      "source": [
        "class ModelType(Enum):\n",
        "    CNN = 1\n",
        "    BERT = 2"
      ]
    },
    {
      "cell_type": "code",
      "execution_count": 4,
      "metadata": {
        "id": "L099p1l79_6N"
      },
      "outputs": [],
      "source": [
        "PAD_TOKEN = \"<pad>\"\n",
        "PADDING_MODE = \"same\""
      ]
    },
    {
      "cell_type": "code",
      "execution_count": 5,
      "metadata": {
        "id": "pxfvOEQz9_6O"
      },
      "outputs": [],
      "source": [
        "def tokenize_and_filter(df: pd.DataFrame):\n",
        "    filtered_reviews = []\n",
        "    labels = []\n",
        "\n",
        "    tokenizer = spacy.load(\"en_core_web_sm\")\n",
        "    tokenizer.add_pipe(\"language_detector\")\n",
        "\n",
        "    # tokenize reviews and filter stopwords\n",
        "    for i, review in enumerate(df[\"reviews\"]):\n",
        "        if isinstance(review, float):\n",
        "            continue\n",
        "\n",
        "        # create document object with lingustic annotations\n",
        "        document = tokenizer(review)\n",
        "        \n",
        "        if document._.language != \"en\" and document._.language_score >= 0.7:\n",
        "            continue\n",
        "\n",
        "        # go through tokens and exclude stopwords\n",
        "        document = [token.lemma_ for token in document if (len(token.lemma_) > 1) and (token.lemma_.isalnum()) and (not token.is_stop)]\n",
        "        filtered_reviews.append(document)\n",
        "        labels.append(df[\"sentiment\"].iloc[i])\n",
        "\n",
        "    return filtered_reviews, labels"
      ]
    },
    {
      "cell_type": "code",
      "execution_count": 6,
      "metadata": {
        "id": "iRppBAKp9_6P"
      },
      "outputs": [],
      "source": [
        "def numericalize_data(all_tokens, vocab):\n",
        "    ids = []\n",
        "    for token_set in all_tokens:\n",
        "        ids.append([vocab[token] for token in token_set])\n",
        "    \n",
        "    return ids"
      ]
    },
    {
      "cell_type": "code",
      "execution_count": 7,
      "metadata": {
        "id": "TrEIZMja9_6Q"
      },
      "outputs": [],
      "source": [
        "class AmazonReviewsDataset(Dataset):\n",
        "    def __init__(self, filepaths, tokenizer: TokenizerType = TokenizerType.SPACY):\n",
        "        df = pd.concat(map(pd.read_csv, filepaths))\n",
        "\n",
        "        self.le = preprocessing.LabelEncoder()\n",
        "        # self.labels = self.le.fit_transform(df[\"sentiment\"]) \n",
        "        \n",
        "        if tokenizer == TokenizerType.SPACY:\n",
        "            self.reviews, self.labels = tokenize_and_filter(df)\n",
        "            self.labels = self.le.fit_transform(self.labels)\n",
        "            self.vocab = torchtext.vocab.build_vocab_from_iterator(self.reviews, specials=[PAD_TOKEN])\n",
        "            self.ids = numericalize_data(self.reviews, self.vocab)\n",
        "        else:\n",
        "            pass\n",
        "\n",
        "    def __len__(self):\n",
        "        return len(self.labels)\n",
        "\n",
        "    def __getitem__(self, idx):\n",
        "        return torch.LongTensor(self.ids[idx]), torch.tensor(self.labels[idx], dtype=torch.long)"
      ]
    },
    {
      "cell_type": "code",
      "execution_count": 8,
      "metadata": {
        "colab": {
          "base_uri": "https://localhost:8080/"
        },
        "id": "17Jc3mWy9_6R",
        "outputId": "e8d7c73d-2544-416a-ade6-c83d0af837b4"
      },
      "outputs": [
        {
          "name": "stderr",
          "output_type": "stream",
          "text": [
            "Warning : `load_model` does not return WordVectorModel or SupervisedModel any more, but a `FastText` object which is very similar.\n"
          ]
        }
      ],
      "source": [
        "all_data = AmazonReviewsDataset([\"../data-scraper/dishwashing tablet_reviews.csv\", \"../data-scraper/mug_reviews.csv\", \"../data-scraper/washing powder_reviews.csv\"])\n",
        "pad_index = all_data.vocab[\"<pad>\"]"
      ]
    },
    {
      "cell_type": "code",
      "execution_count": 9,
      "metadata": {
        "id": "HnSYCNWu9_6S"
      },
      "outputs": [],
      "source": [
        "def pad_tensors(batch, pad_index):\n",
        "    ids = []\n",
        "    labels = []\n",
        "\n",
        "    for batch_ids, batch_labels in batch:\n",
        "        ids.append(batch_ids)\n",
        "        labels.append(batch_labels)\n",
        "\n",
        "    ids = nn.utils.rnn.pad_sequence(ids, padding_value=pad_index, batch_first=True)\n",
        "    labels = torch.stack(labels)\n",
        "\n",
        "    return ids, labels"
      ]
    },
    {
      "cell_type": "code",
      "execution_count": 10,
      "metadata": {},
      "outputs": [
        {
          "data": {
            "text/plain": [
              "5550"
            ]
          },
          "execution_count": 10,
          "metadata": {},
          "output_type": "execute_result"
        }
      ],
      "source": [
        "len(all_data)"
      ]
    },
    {
      "cell_type": "code",
      "execution_count": 11,
      "metadata": {
        "id": "ZmaUChpJ9_6T"
      },
      "outputs": [],
      "source": [
        "train_set, val_set, test_set = torch.utils.data.random_split(all_data, [0.8, 0.1, 0.1])"
      ]
    },
    {
      "cell_type": "code",
      "execution_count": 12,
      "metadata": {
        "id": "CS9JZtzO9_6T"
      },
      "outputs": [],
      "source": [
        "class ConvBlock(nn.Module):\n",
        "    def __init__(self, in_channels: int, out_channels: int, filter_size: int):\n",
        "        super().__init__()\n",
        "\n",
        "        self.linear_stack = nn.Sequential(\n",
        "            nn.Conv1d(in_channels=in_channels, out_channels=out_channels,\n",
        "                      padding=PADDING_MODE, kernel_size=filter_size, bias=False),\n",
        "            nn.ReLU(inplace=True)\n",
        "        )\n",
        "    \n",
        "    def forward(self, x: torch.Tensor) -> torch.Tensor:\n",
        "        x = self.linear_stack(x)\n",
        "        return x.max(dim=-1).values"
      ]
    },
    {
      "cell_type": "code",
      "execution_count": 13,
      "metadata": {
        "id": "14sMiYo49_6U"
      },
      "outputs": [],
      "source": [
        "class SentimentCNN(nn.Module):\n",
        "    def __init__(self, num_embeddings: int, embedding_dim: int, padding_idx: int, dropout_rate: float, output_dim: int, feature_maps_num: int):\n",
        "        super(SentimentCNN, self).__init__()\n",
        "\n",
        "        self.embedding = (nn.Embedding(num_embeddings, embedding_dim, padding_idx))\n",
        "\n",
        "        self.conv1 = (ConvBlock(embedding_dim, feature_maps_num, 3))\n",
        "        self.conv2 = (ConvBlock(embedding_dim, feature_maps_num, 4))\n",
        "        self.conv3 = (ConvBlock(embedding_dim, feature_maps_num, 5))\n",
        "        \n",
        "        self.fc = (nn.Linear(3 * feature_maps_num, output_dim))\n",
        "        self.dropout = (nn.Dropout(dropout_rate))\n",
        "    \n",
        "    def forward(self, x: torch.Tensor) -> torch.Tensor:\n",
        "        x = self.embedding(x)\n",
        "        x = x.permute(0,2,1)\n",
        "\n",
        "        x1 = self.conv1(x)\n",
        "        x2 = self.conv2(x)\n",
        "        x3 = self.conv3(x)\n",
        "\n",
        "        x = torch.cat([x1, x2, x3], dim=-1)\n",
        "        x = self.dropout(x)\n",
        "        x = self.fc(x)\n",
        "\n",
        "        return x"
      ]
    },
    {
      "cell_type": "code",
      "execution_count": 14,
      "metadata": {
        "id": "RuGj9nqzB7MB"
      },
      "outputs": [],
      "source": [
        "class SentimentBERT(nn.Module):\n",
        "    def __init__(self, hidden_dim: int, n_layers, bidirectional: bool, dropout_rate: float, output_dim: int):  \n",
        "        super(SentimentBERT, self).__init__()\n",
        "        \n",
        "        self.bert = BertModel.from_pretrained('bert-base-uncased')\n",
        "        embedding_dim = self.bert.config.to_dict()['hidden_size']\n",
        "        \n",
        "        self.rnn = nn.GRU(embedding_dim,\n",
        "                          hidden_dim,\n",
        "                          num_layers = n_layers,\n",
        "                          bidirectional = bidirectional,\n",
        "                          batch_first = True,\n",
        "                          dropout = 0 if n_layers < 2 else dropout_rate)\n",
        "        \n",
        "        self.out = nn.Linear(hidden_dim * 2 if bidirectional else hidden_dim, output_dim)\n",
        "        self.dropout = nn.Dropout(dropout_rate)\n",
        "        \n",
        "    def forward(self, text):\n",
        "        with torch.no_grad():\n",
        "            embedded = self.bert(text)[0]\n",
        "        \n",
        "        _, hidden = self.rnn(embedded)\n",
        "        \n",
        "        if self.rnn.bidirectional:\n",
        "            hidden = self.dropout(torch.cat((hidden[-2,:,:], hidden[-1,:,:]), dim = 1))\n",
        "        else:\n",
        "            hidden = self.dropout(hidden[-1,:,:])\n",
        "        \n",
        "        output = self.out(hidden)\n",
        "        \n",
        "        return output"
      ]
    },
    {
      "cell_type": "code",
      "execution_count": 16,
      "metadata": {},
      "outputs": [
        {
          "name": "stdout",
          "output_type": "stream",
          "text": [
            "{'epochs': 50, 'learning_rate': 0.001, 'batch_size': 50, 'weight_decay': 0, 'embedding_dim': 300, 'dropout_rate_cnn': 0.5, 'output_dim_cnn': 3, 'feature_maps_num': 100, 'hidden_dim': 256, 'n_layers': 2, 'bidirectional': True, 'dropout_rate_bert': 0.5, 'output_dim_bert': 0.5}\n"
          ]
        }
      ],
      "source": [
        "import json\n",
        "\n",
        "with open('config.json') as f:\n",
        "    parameters = json.load(f)\n",
        "    print(parameters)\n",
        "\n",
        "criterion = nn.CrossEntropyLoss()\n",
        "device = torch.device(\"cuda:0\" if torch.cuda.is_available() else \"cpu\")\n",
        "model_type = ModelType.CNN\n",
        "num_embeddings = len(all_data.vocab)"
      ]
    },
    {
      "cell_type": "code",
      "execution_count": 27,
      "metadata": {},
      "outputs": [],
      "source": [
        "vectors = torchtext.vocab.FastText()"
      ]
    },
    {
      "cell_type": "code",
      "execution_count": 28,
      "metadata": {},
      "outputs": [],
      "source": [
        "pretrained_embedding = vectors.get_vecs_by_tokens(all_data.vocab.get_itos())"
      ]
    },
    {
      "cell_type": "code",
      "execution_count": 56,
      "metadata": {},
      "outputs": [],
      "source": [
        "def initialize_weights(m):\n",
        "    if isinstance(m, nn.Linear):\n",
        "        nn.init.xavier_normal_(m.weight)\n",
        "        nn.init.zeros_(m.bias)\n",
        "    elif isinstance(m, nn.Conv1d):\n",
        "        nn.init.kaiming_normal_(m.weight, nonlinearity='relu')"
      ]
    },
    {
      "cell_type": "code",
      "execution_count": 18,
      "metadata": {
        "id": "i21yfW-L9_6V"
      },
      "outputs": [],
      "source": [
        "collate = functools.partial(pad_tensors, pad_index=pad_index)\n",
        "train_loader = DataLoader(train_set, shuffle=True, batch_size=parameters[\"batch_size\"], collate_fn=collate)\n",
        "val_loader = DataLoader(val_set, shuffle=True, batch_size=parameters[\"batch_size\"], collate_fn=collate)\n",
        "test_loader = DataLoader(test_set, shuffle=True, batch_size=parameters[\"batch_size\"], collate_fn=collate)"
      ]
    },
    {
      "cell_type": "code",
      "execution_count": 19,
      "metadata": {
        "id": "YsCHwN0r9_6W"
      },
      "outputs": [],
      "source": [
        "if model_type == ModelType.CNN:\n",
        "    model = SentimentCNN(num_embeddings, parameters[\"embedding_dim\"], pad_index,\n",
        "                         parameters[\"dropout_rate_cnn\"], parameters[\"output_dim_cnn\"], parameters[\"feature_maps_num\"])\n",
        "    model.to(device=device)\n",
        "    optimizer = torch.optim.Adam(\n",
        "        model.parameters(), weight_decay=parameters[\"weight_decay\"], lr=parameters[\"learning_rate\"])\n",
        "else:\n",
        "    model = SentimentBERT(parameters[\"hidden_dim\"], parameters[\"n_layers\"], parameters[\"bidirectional\"],\n",
        "                          parameters[\"dropout_rate_bert\"], parameters[\"output_dim_bert\"])\n",
        "    for name, param in model.named_parameters():\n",
        "        if name.startswith('bert'):\n",
        "            param.requires_grad = False\n",
        "    model.to(device=device)\n",
        "    optimizer = torch.optim.Adam(\n",
        "        model.parameters(), weight_decay=parameters[\"weight_decay\"], lr=parameters[\"learning_rate\"])\n"
      ]
    },
    {
      "cell_type": "code",
      "execution_count": 59,
      "metadata": {},
      "outputs": [
        {
          "data": {
            "text/plain": [
              "SentimentCNN(\n",
              "  (embedding): Embedding(6575, 300, padding_idx=0)\n",
              "  (conv1): ConvBlock(\n",
              "    (linear_stack): Sequential(\n",
              "      (0): Conv1d(300, 100, kernel_size=(3,), stride=(1,), padding=same, bias=False)\n",
              "      (1): ReLU(inplace=True)\n",
              "    )\n",
              "  )\n",
              "  (conv2): ConvBlock(\n",
              "    (linear_stack): Sequential(\n",
              "      (0): Conv1d(300, 100, kernel_size=(4,), stride=(1,), padding=same, bias=False)\n",
              "      (1): ReLU(inplace=True)\n",
              "    )\n",
              "  )\n",
              "  (conv3): ConvBlock(\n",
              "    (linear_stack): Sequential(\n",
              "      (0): Conv1d(300, 100, kernel_size=(5,), stride=(1,), padding=same, bias=False)\n",
              "      (1): ReLU(inplace=True)\n",
              "    )\n",
              "  )\n",
              "  (fc): Linear(in_features=300, out_features=3, bias=True)\n",
              "  (dropout): Dropout(p=0.5, inplace=False)\n",
              ")"
            ]
          },
          "execution_count": 59,
          "metadata": {},
          "output_type": "execute_result"
        }
      ],
      "source": [
        "model.apply(initialize_weights)"
      ]
    },
    {
      "cell_type": "code",
      "execution_count": 33,
      "metadata": {},
      "outputs": [],
      "source": [
        "model.embedding.weight.data = pretrained_embedding"
      ]
    },
    {
      "cell_type": "code",
      "execution_count": 20,
      "metadata": {
        "id": "Q-FlXYK_9_6X"
      },
      "outputs": [],
      "source": [
        "writer = SummaryWriter()"
      ]
    },
    {
      "cell_type": "code",
      "execution_count": 22,
      "metadata": {
        "colab": {
          "base_uri": "https://localhost:8080/",
          "height": 136,
          "referenced_widgets": [
            "14f7c2fd53f94a7d87b7abab24058209",
            "6bb086d20dc4419197c46ac87da893cf",
            "ecce09e4bcc94c73a316ba54f93a633b",
            "ec4199d4f6794c6ca757b845e875a10b",
            "b6513b72a9e14729bd5af27d718dcd26",
            "19d7a69dc4ef419bb25d808dcb2fc9c5",
            "346cc6cb469647519ec6a797cff59e55",
            "cf935173e3bc43c9ac112c833be8659d",
            "55ea4a2a06fe4e97aaab35b977a722b5",
            "97b8a38630b742dd96e3c643ce7575a1",
            "b763505ffcab48da8e79e5434576a11e",
            "e1d37cd4625548d09ecf41572b2ea27a",
            "cbd2acf368f2413cbc242ebb1563b595",
            "53e899a5ad0c40a0b5e2bbe330a373ca",
            "d7555659b56f4612bb13c0bfd78131ab",
            "32c3501372444774b7d12757d2d5519a",
            "3d85a090cb614f6da0ce50b59f83fa96",
            "f1a101ddfeb340a5aa0cb7fb16556674",
            "cd42b3e89e8a4c639701fe2073470fca",
            "9880c87d005b4d698574eb83d2c559d4",
            "67f58114ae784e3aa56304cbccf45815",
            "e02f9eb5ccb44239b98b88e83fffe980"
          ]
        },
        "id": "_4hka4r99_6X",
        "outputId": "001d68ed-ca9b-47fc-f28e-06eb01d678b7"
      },
      "outputs": [
        {
          "data": {
            "application/vnd.jupyter.widget-view+json": {
              "model_id": "dabbaed1cc4c4e7ab9dfc02a0f0c8db1",
              "version_major": 2,
              "version_minor": 0
            },
            "text/plain": [
              "Training:   0%|          | 0/89 [00:00<?, ?batch/s]"
            ]
          },
          "metadata": {},
          "output_type": "display_data"
        },
        {
          "data": {
            "application/vnd.jupyter.widget-view+json": {
              "model_id": "8b4dc0576a334c01b94fa688bd2bd295",
              "version_major": 2,
              "version_minor": 0
            },
            "text/plain": [
              "Validation:   0%|          | 0/12 [00:00<?, ?batch/s]"
            ]
          },
          "metadata": {},
          "output_type": "display_data"
        },
        {
          "name": "stderr",
          "output_type": "stream",
          "text": [
            "/home/godot/Documents/Politechnika/Magisterka/NLP/nlp2022z-sentiment-analysis/lib/python3.10/site-packages/torch/nn/modules/conv.py:309: UserWarning: Using padding='same' with even kernel lengths and odd dilation may require a zero-padded copy of the input be created (Triggered internally at ../aten/src/ATen/native/Convolution.cpp:895.)\n",
            "  return F.conv1d(input, weight, bias, self.stride,\n"
          ]
        }
      ],
      "source": [
        "best_valid_loss = float('inf')\n",
        "\n",
        "train_bar = tqdm(total=len(train_loader), desc=\"Training\", unit=\"batch\")\n",
        "val_bar = tqdm(total=len(val_loader), desc=\"Validation\", unit=\"batch\")\n",
        "\n",
        "for epoch in range(1, parameters[\"epochs\"] + 1):\n",
        "    model.train()\n",
        "    train_loss = []\n",
        "\n",
        "    train_bar.reset()\n",
        "    val_bar.reset()\n",
        "\n",
        "    for batch in train_loader:\n",
        "        ids, labels = batch\n",
        "\n",
        "        ids = ids.to(device=device)\n",
        "        labels = labels.to(device=device)\n",
        "\n",
        "        logits = model(ids)\n",
        "        loss = criterion(logits, labels)\n",
        "\n",
        "        loss.backward()\n",
        "        optimizer.step()\n",
        "        optimizer.zero_grad()\n",
        "        train_loss.append(loss)\n",
        "\n",
        "        train_bar.set_postfix(epoch=epoch, loss=loss.item())\n",
        "        train_bar.update()\n",
        "\n",
        "    avg_train_loss = torch.stack(train_loss).mean()\n",
        "    writer.add_scalar('Loss/train', avg_train_loss, epoch)\n",
        "\n",
        "    model.eval()\n",
        "    with torch.no_grad():\n",
        "        val_loss = []\n",
        "\n",
        "        for batch in val_loader:\n",
        "            ids, labels = batch\n",
        "            ids = ids.to(device=device)\n",
        "            labels = labels.to(device=device)\n",
        "\n",
        "            logits = model(ids)\n",
        "            loss = criterion(logits, labels)\n",
        "\n",
        "            val_loss.append(loss)\n",
        "\n",
        "            val_bar.set_postfix(epoch=epoch, loss=loss.item())\n",
        "            val_bar.update()\n",
        "\n",
        "        avg_val_loss = torch.stack(val_loss).mean()\n",
        "        writer.add_scalar('Loss/validation', avg_val_loss, epoch)\n",
        "\n",
        "        if avg_val_loss < best_valid_loss:\n",
        "            best_valid_loss = avg_val_loss\n",
        "            torch.save(model.state_dict(), 'cnn.pt')"
      ]
    },
    {
      "cell_type": "code",
      "execution_count": 53,
      "metadata": {
        "id": "F5XuucHeXB-L"
      },
      "outputs": [],
      "source": [
        "def evaluate(model, iterator, criterion):\n",
        "    \n",
        "    loss_all = 0\n",
        "    acc_all = 0\n",
        "    prec_all = 0\n",
        "    f1_all = 0\n",
        "    \n",
        "    model.eval()\n",
        "    \n",
        "    with torch.no_grad():\n",
        "    \n",
        "        for batch in iterator:\n",
        "            ids, labels = batch\n",
        "            ids = ids.to(device=device)\n",
        "            labels = labels.to(device=device)\n",
        "\n",
        "            logits = model(ids)\n",
        "            \n",
        "            loss = criterion(logits, labels)\n",
        "\n",
        "            accuracy = Accuracy(task=\"multiclass\", num_classes=3)\n",
        "            accuracy = accuracy.to(device=device)\n",
        "            acc = accuracy(logits, labels)\n",
        "\n",
        "            precision = Precision(task=\"multiclass\", average='macro', num_classes=3)\n",
        "            precision = precision.to(device=device)\n",
        "            prec = precision(logits, labels)\n",
        "\n",
        "            f1score = F1Score(task=\"multiclass\", num_classes=3)\n",
        "            f1score = f1score.to(device=device)\n",
        "            f1 = f1score(logits, labels)\n",
        "\n",
        "            loss_all += loss.item()\n",
        "            acc_all += acc.item()\n",
        "            prec_all += prec.item()\n",
        "            f1_all += f1.item()\n",
        "        \n",
        "    return loss_all / len(iterator), acc_all / len(iterator), prec_all / len(iterator), f1_all / len(iterator)"
      ]
    },
    {
      "cell_type": "code",
      "execution_count": 62,
      "metadata": {
        "colab": {
          "base_uri": "https://localhost:8080/"
        },
        "id": "KvvN-lsSW7En",
        "outputId": "64017944-321b-4bda-e77d-09996e6a04f6"
      },
      "outputs": [
        {
          "name": "stdout",
          "output_type": "stream",
          "text": [
            "Test Loss: 0.768 | Test Acc: 69.00 | Test Precision: \\0.689 | Test F1: 0.690\n"
          ]
        }
      ],
      "source": [
        "model.load_state_dict(torch.load('cnn.pt'))\n",
        "\n",
        "test_loss, test_acc, test_prec, test_f1 = evaluate(model, test_loader, criterion)\n",
        "\n",
        "print(f'Test Loss: {test_loss:.3f} | Test Acc: {test_acc*100:.2f} | Test Precision: \\{test_prec:.3f} | Test F1: {test_f1:.3f}')"
      ]
    }
  ],
  "metadata": {
    "accelerator": "GPU",
    "colab": {
      "provenance": []
    },
    "gpuClass": "standard",
    "kernelspec": {
      "display_name": "nlp",
      "language": "python",
      "name": "nlp"
    },
    "language_info": {
      "codemirror_mode": {
        "name": "ipython",
        "version": 3
      },
      "file_extension": ".py",
      "mimetype": "text/x-python",
      "name": "python",
      "nbconvert_exporter": "python",
      "pygments_lexer": "ipython3",
      "version": "3.10.8"
    },
    "widgets": {
      "application/vnd.jupyter.widget-state+json": {
        "14f7c2fd53f94a7d87b7abab24058209": {
          "model_module": "@jupyter-widgets/controls",
          "model_module_version": "1.5.0",
          "model_name": "HBoxModel",
          "state": {
            "_dom_classes": [],
            "_model_module": "@jupyter-widgets/controls",
            "_model_module_version": "1.5.0",
            "_model_name": "HBoxModel",
            "_view_count": null,
            "_view_module": "@jupyter-widgets/controls",
            "_view_module_version": "1.5.0",
            "_view_name": "HBoxView",
            "box_style": "",
            "children": [
              "IPY_MODEL_6bb086d20dc4419197c46ac87da893cf",
              "IPY_MODEL_ecce09e4bcc94c73a316ba54f93a633b",
              "IPY_MODEL_ec4199d4f6794c6ca757b845e875a10b"
            ],
            "layout": "IPY_MODEL_b6513b72a9e14729bd5af27d718dcd26"
          }
        },
        "19d7a69dc4ef419bb25d808dcb2fc9c5": {
          "model_module": "@jupyter-widgets/base",
          "model_module_version": "1.2.0",
          "model_name": "LayoutModel",
          "state": {
            "_model_module": "@jupyter-widgets/base",
            "_model_module_version": "1.2.0",
            "_model_name": "LayoutModel",
            "_view_count": null,
            "_view_module": "@jupyter-widgets/base",
            "_view_module_version": "1.2.0",
            "_view_name": "LayoutView",
            "align_content": null,
            "align_items": null,
            "align_self": null,
            "border": null,
            "bottom": null,
            "display": null,
            "flex": null,
            "flex_flow": null,
            "grid_area": null,
            "grid_auto_columns": null,
            "grid_auto_flow": null,
            "grid_auto_rows": null,
            "grid_column": null,
            "grid_gap": null,
            "grid_row": null,
            "grid_template_areas": null,
            "grid_template_columns": null,
            "grid_template_rows": null,
            "height": null,
            "justify_content": null,
            "justify_items": null,
            "left": null,
            "margin": null,
            "max_height": null,
            "max_width": null,
            "min_height": null,
            "min_width": null,
            "object_fit": null,
            "object_position": null,
            "order": null,
            "overflow": null,
            "overflow_x": null,
            "overflow_y": null,
            "padding": null,
            "right": null,
            "top": null,
            "visibility": null,
            "width": null
          }
        },
        "32c3501372444774b7d12757d2d5519a": {
          "model_module": "@jupyter-widgets/base",
          "model_module_version": "1.2.0",
          "model_name": "LayoutModel",
          "state": {
            "_model_module": "@jupyter-widgets/base",
            "_model_module_version": "1.2.0",
            "_model_name": "LayoutModel",
            "_view_count": null,
            "_view_module": "@jupyter-widgets/base",
            "_view_module_version": "1.2.0",
            "_view_name": "LayoutView",
            "align_content": null,
            "align_items": null,
            "align_self": null,
            "border": null,
            "bottom": null,
            "display": null,
            "flex": null,
            "flex_flow": null,
            "grid_area": null,
            "grid_auto_columns": null,
            "grid_auto_flow": null,
            "grid_auto_rows": null,
            "grid_column": null,
            "grid_gap": null,
            "grid_row": null,
            "grid_template_areas": null,
            "grid_template_columns": null,
            "grid_template_rows": null,
            "height": null,
            "justify_content": null,
            "justify_items": null,
            "left": null,
            "margin": null,
            "max_height": null,
            "max_width": null,
            "min_height": null,
            "min_width": null,
            "object_fit": null,
            "object_position": null,
            "order": null,
            "overflow": null,
            "overflow_x": null,
            "overflow_y": null,
            "padding": null,
            "right": null,
            "top": null,
            "visibility": null,
            "width": null
          }
        },
        "346cc6cb469647519ec6a797cff59e55": {
          "model_module": "@jupyter-widgets/controls",
          "model_module_version": "1.5.0",
          "model_name": "DescriptionStyleModel",
          "state": {
            "_model_module": "@jupyter-widgets/controls",
            "_model_module_version": "1.5.0",
            "_model_name": "DescriptionStyleModel",
            "_view_count": null,
            "_view_module": "@jupyter-widgets/base",
            "_view_module_version": "1.2.0",
            "_view_name": "StyleView",
            "description_width": ""
          }
        },
        "3d85a090cb614f6da0ce50b59f83fa96": {
          "model_module": "@jupyter-widgets/base",
          "model_module_version": "1.2.0",
          "model_name": "LayoutModel",
          "state": {
            "_model_module": "@jupyter-widgets/base",
            "_model_module_version": "1.2.0",
            "_model_name": "LayoutModel",
            "_view_count": null,
            "_view_module": "@jupyter-widgets/base",
            "_view_module_version": "1.2.0",
            "_view_name": "LayoutView",
            "align_content": null,
            "align_items": null,
            "align_self": null,
            "border": null,
            "bottom": null,
            "display": null,
            "flex": null,
            "flex_flow": null,
            "grid_area": null,
            "grid_auto_columns": null,
            "grid_auto_flow": null,
            "grid_auto_rows": null,
            "grid_column": null,
            "grid_gap": null,
            "grid_row": null,
            "grid_template_areas": null,
            "grid_template_columns": null,
            "grid_template_rows": null,
            "height": null,
            "justify_content": null,
            "justify_items": null,
            "left": null,
            "margin": null,
            "max_height": null,
            "max_width": null,
            "min_height": null,
            "min_width": null,
            "object_fit": null,
            "object_position": null,
            "order": null,
            "overflow": null,
            "overflow_x": null,
            "overflow_y": null,
            "padding": null,
            "right": null,
            "top": null,
            "visibility": null,
            "width": null
          }
        },
        "53e899a5ad0c40a0b5e2bbe330a373ca": {
          "model_module": "@jupyter-widgets/controls",
          "model_module_version": "1.5.0",
          "model_name": "FloatProgressModel",
          "state": {
            "_dom_classes": [],
            "_model_module": "@jupyter-widgets/controls",
            "_model_module_version": "1.5.0",
            "_model_name": "FloatProgressModel",
            "_view_count": null,
            "_view_module": "@jupyter-widgets/controls",
            "_view_module_version": "1.5.0",
            "_view_name": "ProgressView",
            "bar_style": "",
            "description": "",
            "description_tooltip": null,
            "layout": "IPY_MODEL_cd42b3e89e8a4c639701fe2073470fca",
            "max": 17,
            "min": 0,
            "orientation": "horizontal",
            "style": "IPY_MODEL_9880c87d005b4d698574eb83d2c559d4",
            "value": 17
          }
        },
        "55ea4a2a06fe4e97aaab35b977a722b5": {
          "model_module": "@jupyter-widgets/controls",
          "model_module_version": "1.5.0",
          "model_name": "ProgressStyleModel",
          "state": {
            "_model_module": "@jupyter-widgets/controls",
            "_model_module_version": "1.5.0",
            "_model_name": "ProgressStyleModel",
            "_view_count": null,
            "_view_module": "@jupyter-widgets/base",
            "_view_module_version": "1.2.0",
            "_view_name": "StyleView",
            "bar_color": null,
            "description_width": ""
          }
        },
        "67f58114ae784e3aa56304cbccf45815": {
          "model_module": "@jupyter-widgets/base",
          "model_module_version": "1.2.0",
          "model_name": "LayoutModel",
          "state": {
            "_model_module": "@jupyter-widgets/base",
            "_model_module_version": "1.2.0",
            "_model_name": "LayoutModel",
            "_view_count": null,
            "_view_module": "@jupyter-widgets/base",
            "_view_module_version": "1.2.0",
            "_view_name": "LayoutView",
            "align_content": null,
            "align_items": null,
            "align_self": null,
            "border": null,
            "bottom": null,
            "display": null,
            "flex": null,
            "flex_flow": null,
            "grid_area": null,
            "grid_auto_columns": null,
            "grid_auto_flow": null,
            "grid_auto_rows": null,
            "grid_column": null,
            "grid_gap": null,
            "grid_row": null,
            "grid_template_areas": null,
            "grid_template_columns": null,
            "grid_template_rows": null,
            "height": null,
            "justify_content": null,
            "justify_items": null,
            "left": null,
            "margin": null,
            "max_height": null,
            "max_width": null,
            "min_height": null,
            "min_width": null,
            "object_fit": null,
            "object_position": null,
            "order": null,
            "overflow": null,
            "overflow_x": null,
            "overflow_y": null,
            "padding": null,
            "right": null,
            "top": null,
            "visibility": null,
            "width": null
          }
        },
        "6bb086d20dc4419197c46ac87da893cf": {
          "model_module": "@jupyter-widgets/controls",
          "model_module_version": "1.5.0",
          "model_name": "HTMLModel",
          "state": {
            "_dom_classes": [],
            "_model_module": "@jupyter-widgets/controls",
            "_model_module_version": "1.5.0",
            "_model_name": "HTMLModel",
            "_view_count": null,
            "_view_module": "@jupyter-widgets/controls",
            "_view_module_version": "1.5.0",
            "_view_name": "HTMLView",
            "description": "",
            "description_tooltip": null,
            "layout": "IPY_MODEL_19d7a69dc4ef419bb25d808dcb2fc9c5",
            "placeholder": "​",
            "style": "IPY_MODEL_346cc6cb469647519ec6a797cff59e55",
            "value": "Training: 100%"
          }
        },
        "97b8a38630b742dd96e3c643ce7575a1": {
          "model_module": "@jupyter-widgets/base",
          "model_module_version": "1.2.0",
          "model_name": "LayoutModel",
          "state": {
            "_model_module": "@jupyter-widgets/base",
            "_model_module_version": "1.2.0",
            "_model_name": "LayoutModel",
            "_view_count": null,
            "_view_module": "@jupyter-widgets/base",
            "_view_module_version": "1.2.0",
            "_view_name": "LayoutView",
            "align_content": null,
            "align_items": null,
            "align_self": null,
            "border": null,
            "bottom": null,
            "display": null,
            "flex": null,
            "flex_flow": null,
            "grid_area": null,
            "grid_auto_columns": null,
            "grid_auto_flow": null,
            "grid_auto_rows": null,
            "grid_column": null,
            "grid_gap": null,
            "grid_row": null,
            "grid_template_areas": null,
            "grid_template_columns": null,
            "grid_template_rows": null,
            "height": null,
            "justify_content": null,
            "justify_items": null,
            "left": null,
            "margin": null,
            "max_height": null,
            "max_width": null,
            "min_height": null,
            "min_width": null,
            "object_fit": null,
            "object_position": null,
            "order": null,
            "overflow": null,
            "overflow_x": null,
            "overflow_y": null,
            "padding": null,
            "right": null,
            "top": null,
            "visibility": null,
            "width": null
          }
        },
        "9880c87d005b4d698574eb83d2c559d4": {
          "model_module": "@jupyter-widgets/controls",
          "model_module_version": "1.5.0",
          "model_name": "ProgressStyleModel",
          "state": {
            "_model_module": "@jupyter-widgets/controls",
            "_model_module_version": "1.5.0",
            "_model_name": "ProgressStyleModel",
            "_view_count": null,
            "_view_module": "@jupyter-widgets/base",
            "_view_module_version": "1.2.0",
            "_view_name": "StyleView",
            "bar_color": null,
            "description_width": ""
          }
        },
        "b6513b72a9e14729bd5af27d718dcd26": {
          "model_module": "@jupyter-widgets/base",
          "model_module_version": "1.2.0",
          "model_name": "LayoutModel",
          "state": {
            "_model_module": "@jupyter-widgets/base",
            "_model_module_version": "1.2.0",
            "_model_name": "LayoutModel",
            "_view_count": null,
            "_view_module": "@jupyter-widgets/base",
            "_view_module_version": "1.2.0",
            "_view_name": "LayoutView",
            "align_content": null,
            "align_items": null,
            "align_self": null,
            "border": null,
            "bottom": null,
            "display": null,
            "flex": null,
            "flex_flow": null,
            "grid_area": null,
            "grid_auto_columns": null,
            "grid_auto_flow": null,
            "grid_auto_rows": null,
            "grid_column": null,
            "grid_gap": null,
            "grid_row": null,
            "grid_template_areas": null,
            "grid_template_columns": null,
            "grid_template_rows": null,
            "height": null,
            "justify_content": null,
            "justify_items": null,
            "left": null,
            "margin": null,
            "max_height": null,
            "max_width": null,
            "min_height": null,
            "min_width": null,
            "object_fit": null,
            "object_position": null,
            "order": null,
            "overflow": null,
            "overflow_x": null,
            "overflow_y": null,
            "padding": null,
            "right": null,
            "top": null,
            "visibility": null,
            "width": null
          }
        },
        "b763505ffcab48da8e79e5434576a11e": {
          "model_module": "@jupyter-widgets/controls",
          "model_module_version": "1.5.0",
          "model_name": "DescriptionStyleModel",
          "state": {
            "_model_module": "@jupyter-widgets/controls",
            "_model_module_version": "1.5.0",
            "_model_name": "DescriptionStyleModel",
            "_view_count": null,
            "_view_module": "@jupyter-widgets/base",
            "_view_module_version": "1.2.0",
            "_view_name": "StyleView",
            "description_width": ""
          }
        },
        "cbd2acf368f2413cbc242ebb1563b595": {
          "model_module": "@jupyter-widgets/controls",
          "model_module_version": "1.5.0",
          "model_name": "HTMLModel",
          "state": {
            "_dom_classes": [],
            "_model_module": "@jupyter-widgets/controls",
            "_model_module_version": "1.5.0",
            "_model_name": "HTMLModel",
            "_view_count": null,
            "_view_module": "@jupyter-widgets/controls",
            "_view_module_version": "1.5.0",
            "_view_name": "HTMLView",
            "description": "",
            "description_tooltip": null,
            "layout": "IPY_MODEL_3d85a090cb614f6da0ce50b59f83fa96",
            "placeholder": "​",
            "style": "IPY_MODEL_f1a101ddfeb340a5aa0cb7fb16556674",
            "value": "Validation: 100%"
          }
        },
        "cd42b3e89e8a4c639701fe2073470fca": {
          "model_module": "@jupyter-widgets/base",
          "model_module_version": "1.2.0",
          "model_name": "LayoutModel",
          "state": {
            "_model_module": "@jupyter-widgets/base",
            "_model_module_version": "1.2.0",
            "_model_name": "LayoutModel",
            "_view_count": null,
            "_view_module": "@jupyter-widgets/base",
            "_view_module_version": "1.2.0",
            "_view_name": "LayoutView",
            "align_content": null,
            "align_items": null,
            "align_self": null,
            "border": null,
            "bottom": null,
            "display": null,
            "flex": null,
            "flex_flow": null,
            "grid_area": null,
            "grid_auto_columns": null,
            "grid_auto_flow": null,
            "grid_auto_rows": null,
            "grid_column": null,
            "grid_gap": null,
            "grid_row": null,
            "grid_template_areas": null,
            "grid_template_columns": null,
            "grid_template_rows": null,
            "height": null,
            "justify_content": null,
            "justify_items": null,
            "left": null,
            "margin": null,
            "max_height": null,
            "max_width": null,
            "min_height": null,
            "min_width": null,
            "object_fit": null,
            "object_position": null,
            "order": null,
            "overflow": null,
            "overflow_x": null,
            "overflow_y": null,
            "padding": null,
            "right": null,
            "top": null,
            "visibility": null,
            "width": null
          }
        },
        "cf935173e3bc43c9ac112c833be8659d": {
          "model_module": "@jupyter-widgets/base",
          "model_module_version": "1.2.0",
          "model_name": "LayoutModel",
          "state": {
            "_model_module": "@jupyter-widgets/base",
            "_model_module_version": "1.2.0",
            "_model_name": "LayoutModel",
            "_view_count": null,
            "_view_module": "@jupyter-widgets/base",
            "_view_module_version": "1.2.0",
            "_view_name": "LayoutView",
            "align_content": null,
            "align_items": null,
            "align_self": null,
            "border": null,
            "bottom": null,
            "display": null,
            "flex": null,
            "flex_flow": null,
            "grid_area": null,
            "grid_auto_columns": null,
            "grid_auto_flow": null,
            "grid_auto_rows": null,
            "grid_column": null,
            "grid_gap": null,
            "grid_row": null,
            "grid_template_areas": null,
            "grid_template_columns": null,
            "grid_template_rows": null,
            "height": null,
            "justify_content": null,
            "justify_items": null,
            "left": null,
            "margin": null,
            "max_height": null,
            "max_width": null,
            "min_height": null,
            "min_width": null,
            "object_fit": null,
            "object_position": null,
            "order": null,
            "overflow": null,
            "overflow_x": null,
            "overflow_y": null,
            "padding": null,
            "right": null,
            "top": null,
            "visibility": null,
            "width": null
          }
        },
        "d7555659b56f4612bb13c0bfd78131ab": {
          "model_module": "@jupyter-widgets/controls",
          "model_module_version": "1.5.0",
          "model_name": "HTMLModel",
          "state": {
            "_dom_classes": [],
            "_model_module": "@jupyter-widgets/controls",
            "_model_module_version": "1.5.0",
            "_model_name": "HTMLModel",
            "_view_count": null,
            "_view_module": "@jupyter-widgets/controls",
            "_view_module_version": "1.5.0",
            "_view_name": "HTMLView",
            "description": "",
            "description_tooltip": null,
            "layout": "IPY_MODEL_67f58114ae784e3aa56304cbccf45815",
            "placeholder": "​",
            "style": "IPY_MODEL_e02f9eb5ccb44239b98b88e83fffe980",
            "value": " 17/17 [00:20&lt;00:00, 11.34batch/s, epoch=5, loss=0.67]"
          }
        },
        "e02f9eb5ccb44239b98b88e83fffe980": {
          "model_module": "@jupyter-widgets/controls",
          "model_module_version": "1.5.0",
          "model_name": "DescriptionStyleModel",
          "state": {
            "_model_module": "@jupyter-widgets/controls",
            "_model_module_version": "1.5.0",
            "_model_name": "DescriptionStyleModel",
            "_view_count": null,
            "_view_module": "@jupyter-widgets/base",
            "_view_module_version": "1.2.0",
            "_view_name": "StyleView",
            "description_width": ""
          }
        },
        "e1d37cd4625548d09ecf41572b2ea27a": {
          "model_module": "@jupyter-widgets/controls",
          "model_module_version": "1.5.0",
          "model_name": "HBoxModel",
          "state": {
            "_dom_classes": [],
            "_model_module": "@jupyter-widgets/controls",
            "_model_module_version": "1.5.0",
            "_model_name": "HBoxModel",
            "_view_count": null,
            "_view_module": "@jupyter-widgets/controls",
            "_view_module_version": "1.5.0",
            "_view_name": "HBoxView",
            "box_style": "",
            "children": [
              "IPY_MODEL_cbd2acf368f2413cbc242ebb1563b595",
              "IPY_MODEL_53e899a5ad0c40a0b5e2bbe330a373ca",
              "IPY_MODEL_d7555659b56f4612bb13c0bfd78131ab"
            ],
            "layout": "IPY_MODEL_32c3501372444774b7d12757d2d5519a"
          }
        },
        "ec4199d4f6794c6ca757b845e875a10b": {
          "model_module": "@jupyter-widgets/controls",
          "model_module_version": "1.5.0",
          "model_name": "HTMLModel",
          "state": {
            "_dom_classes": [],
            "_model_module": "@jupyter-widgets/controls",
            "_model_module_version": "1.5.0",
            "_model_name": "HTMLModel",
            "_view_count": null,
            "_view_module": "@jupyter-widgets/controls",
            "_view_module_version": "1.5.0",
            "_view_name": "HTMLView",
            "description": "",
            "description_tooltip": null,
            "layout": "IPY_MODEL_97b8a38630b742dd96e3c643ce7575a1",
            "placeholder": "​",
            "style": "IPY_MODEL_b763505ffcab48da8e79e5434576a11e",
            "value": " 78/78 [00:20&lt;00:00, 99.74batch/s, epoch=5, loss=0.543]"
          }
        },
        "ecce09e4bcc94c73a316ba54f93a633b": {
          "model_module": "@jupyter-widgets/controls",
          "model_module_version": "1.5.0",
          "model_name": "FloatProgressModel",
          "state": {
            "_dom_classes": [],
            "_model_module": "@jupyter-widgets/controls",
            "_model_module_version": "1.5.0",
            "_model_name": "FloatProgressModel",
            "_view_count": null,
            "_view_module": "@jupyter-widgets/controls",
            "_view_module_version": "1.5.0",
            "_view_name": "ProgressView",
            "bar_style": "",
            "description": "",
            "description_tooltip": null,
            "layout": "IPY_MODEL_cf935173e3bc43c9ac112c833be8659d",
            "max": 78,
            "min": 0,
            "orientation": "horizontal",
            "style": "IPY_MODEL_55ea4a2a06fe4e97aaab35b977a722b5",
            "value": 78
          }
        },
        "f1a101ddfeb340a5aa0cb7fb16556674": {
          "model_module": "@jupyter-widgets/controls",
          "model_module_version": "1.5.0",
          "model_name": "DescriptionStyleModel",
          "state": {
            "_model_module": "@jupyter-widgets/controls",
            "_model_module_version": "1.5.0",
            "_model_name": "DescriptionStyleModel",
            "_view_count": null,
            "_view_module": "@jupyter-widgets/base",
            "_view_module_version": "1.2.0",
            "_view_name": "StyleView",
            "description_width": ""
          }
        }
      }
    }
  },
  "nbformat": 4,
  "nbformat_minor": 0
}
