{
  "cells": [
    {
      "cell_type": "code",
      "execution_count": 121,
      "metadata": {
        "id": "U6BkI88KXUsp"
      },
      "outputs": [],
      "source": [
        "import requests\n",
        "from bs4 import BeautifulSoup\n",
        "import pandas as pd\n",
        "from urllib.parse import urlencode\n",
        "import csv"
      ]
    },
    {
      "cell_type": "code",
      "execution_count": 122,
      "metadata": {
        "id": "Ljd4pNaqXUss"
      },
      "outputs": [],
      "source": [
        "mug_urls = [\n",
        "    \"https://www.amazon.com/YETI-Rambler-Stainless-Insulated-MagSlider/dp/B073WJMKHN/\",\n",
        "    \"https://www.amazon.com/Contigo-AUTOSEAL-Vaccuum-Insulated-Stainless-Travel/dp/B01JIEIY0G\",\n",
        "    \"https://www.amazon.com/dp/B07L6LL95P\",\n",
        "    \"https://www.amazon.com/Thermos-Stainless-Ounce-Travel-Steel/dp/B01DZQT0E2\",\n",
        "    \"https://www.amazon.com/THERMOS-Stainless-Travel-Ounce-Matte/dp/B08JWMVB43\",\n",
        "    \"https://www.amazon.com/Contigo-SnapSeal-Vacuum-Insulated-Stainless-Gunmetal/dp/B00IR77HMW\",\n",
        "    \"https://www.amazon.com/Contigo-AUTOSEAL-Transit-Stainless-Travel/dp/B0160LEYFY\"\n",
        "]"
      ]
    },
    {
      "cell_type": "code",
      "execution_count": 123,
      "metadata": {
        "id": "6h9bGJlDXUst"
      },
      "outputs": [],
      "source": [
        "washing_powder_urls = [\n",
        "    \"https://www.amazon.com/Arm-Hammer-Super-Washing-Soda/dp/B0029XNTEU\",\n",
        "    \"https://www.amazon.com/Gain-Laundry-Detergent-Regular-Moonlight/dp/B09DHVK97X\",\n",
        "    \"https://www.amazon.com/Tide-Powder-Laundry-Detergent-Mountain/dp/B00BZWUJM6\",\n",
        "    \"https://www.amazon.com/Ariel-Powder-Laundry-Detergent-Freshness/dp/B0BJMBBQJT\",\n",
        "    \"https://www.amazon.com/OxiClean-Odor-Blasters-80-Ounce/dp/B01BUNHFAS\",\n",
        "    \"https://www.amazon.com/Ariel-Ultra-Powder-Laundry-Detergent/dp/B0BJNCKHD8\",\n",
        "    \"https://www.amazon.com/Gain-Freshlock-Island-Powder-Detergent/dp/B009P7W886\",\n",
        "    \"https://www.amazon.com/Forever-New-Granular-Natural-Detergent/dp/B002USD5FC\"\n",
        "    \"https://www.amazon.com/Mollys-Suds-Original-Detergent-Sensitive/dp/B0073LGECW\"\n",
        "]"
      ]
    },
    {
      "cell_type": "code",
      "execution_count": 124,
      "metadata": {
        "id": "tFvKKm93XUst"
      },
      "outputs": [],
      "source": [
        "dishwashing_tablets_urls = [\n",
        "    \"https://www.amazon.com/Finish-Dishwasher-Detergent-Powerball-Dishwashing/dp/B06XX33G82\",\n",
        "    \"https://www.amazon.com/Cascade-Platinum-ActionPacs-Dishwasher-Detergent/dp/B086ZJTVS5\",\n",
        "    \"https://www.amazon.com/Finish-Technology-Dishwasher-Detergent-Dishwashing/dp/B0857XKM2M\",\n",
        "    \"https://www.amazon.com/Seventh-Generation-Fragrance-Dishwasher-Detergent/dp/B01FHUJ1FC\",\n",
        "    \"https://www.amazon.com/Palmolive-PowerPacs-Dishwasher-Detergent-Biodegradable/dp/B08L8MZNJ2\",\n",
        "    \"https://www.amazon.com/Planet-Automatic-Clear-Dishwasher-Ounce/dp/B01KLFR5V0\",\n",
        "    \"https://www.amazon.com/Ecover-Automatic-Dishwasher-Tablets-Citrus/dp/B00MFPZJZ4\",\n",
        "    \"https://www.amazon.com/Cascade-Complete-ActionPacs-Dishwasher-Detergent/dp/B01NCJSM2T\",\n",
        "    \"https://www.amazon.com/Finish-Technology-Dishwasher-Detergent-Dishwashing/dp/B0857WT8R9\",\n",
        "    \"https://www.amazon.com/Ecover-Automatic-Dishwasher-Tablets-Fragrance-Free/dp/B0080L99GC\",\n",
        "    \"https://www.amazon.com/Seventh-Generation-Dishwasher-Detergent-Citrus/dp/B01FHUJ1ZW\",\n",
        "    \"https://www.amazon.com/Finish-Gelpacs-Dishwasher-Detergent-Tablets/dp/B002ODC2DE\"\n",
        "]"
      ]
    },
    {
      "cell_type": "code",
      "execution_count": 125,
      "metadata": {
        "id": "RSI4wEqGXUsu"
      },
      "outputs": [],
      "source": [
        "urls = [mug_urls, washing_powder_urls, dishwashing_tablets_urls]\n",
        "categories = [\"mug\", \"washing powder\", \"dishwashing tablet\"]\n",
        "star_filter_dict = {1: \"one_star\", 2: \"two_star\", 3: \"three_star\", 4: \"four_star\", 5: \"five_star\"}"
      ]
    },
    {
      "cell_type": "code",
      "execution_count": 126,
      "metadata": {
        "id": "wBIaXlOOXUsu"
      },
      "outputs": [],
      "source": [
        "reviews_dict = {\n",
        "    \"mug\": [],\n",
        "    \"washing powder\": [],\n",
        "    \"dishwashing tablet\": []\n",
        "}\n",
        "\n",
        "sentiments_dict = {\n",
        "    \"mug\": [],\n",
        "    \"washing powder\": [],\n",
        "    \"dishwashing tablet\": []\n",
        "}"
      ]
    },
    {
      "cell_type": "code",
      "execution_count": 128,
      "metadata": {
        "id": "Ya_SNsPxXUsu"
      },
      "outputs": [],
      "source": [
        "api_key = \"\"\n",
        "stars = 3\n",
        "review_limit = 5\n",
        "\n",
        "data_string = \"\"\n",
        "\n",
        "for index, url_set in enumerate(urls):\n",
        "    i = 0\n",
        "    for url in url_set:\n",
        "        page = 1\n",
        "        while page != -1 and i <= review_limit:\n",
        "            url = url.replace(\"/dp/\", \"/product-reviews/\")\n",
        "            url_params = url + '/?filterByStar=' + star_filter_dict.get(stars) + '&pageNumber=' + str(page)\n",
        "\n",
        "            params = {\"api_key\": api_key, \"url\": url_params}\n",
        "            response = requests.get(\"http://api.scraperapi.com/\",\n",
        "                                      params=urlencode(params))\n",
        "            soup = BeautifulSoup(response.text, 'html.parser')\n",
        "\n",
        "            for item in soup.find_all(\"span\", {\"data-hook\": \"review-body\"}):\n",
        "                data_string = data_string + item.get_text()\n",
        "                reviews_dict[categories[index]].append(data_string)\n",
        "                data_string = \"\"\n",
        "                i += 1\n",
        "\n",
        "            page = page + 1 if soup.find_all('li', class_=\"a-last\") != [] else -1"
      ]
    },
    {
      "cell_type": "code",
      "execution_count": 129,
      "metadata": {
        "id": "fBYaBCG5XUsv"
      },
      "outputs": [],
      "source": [
        "for category in reviews_dict:\n",
        "    for review in reviews_dict[category]:\n",
        "        if stars in {5, 4}:\n",
        "            sentiments_dict[category].append(\"positive\")\n",
        "        elif stars == 3:\n",
        "            sentiments_dict[category].append(\"neutral\")\n",
        "        else:\n",
        "            sentiments_dict[category].append(\"negative\") "
      ]
    },
    {
      "cell_type": "code",
      "execution_count": 130,
      "metadata": {
        "id": "h77qyIREXUsv"
      },
      "outputs": [],
      "source": [
        "for category in categories:\n",
        "    paired_reviews = {\"reviews\": reviews_dict[category], \"sentiment\": sentiments_dict[category]}\n",
        "\n",
        "    df = pd.DataFrame.from_dict(paired_reviews, orient=\"index\")\n",
        "    df.dropna(axis=1, inplace=True)\n",
        "\n",
        "    final_df = df.T\n",
        "    final_df[\"reviews\"] = final_df[\"reviews\"].str.replace('\\n','')\n",
        "    final_df[\"product_category\"] = category\n",
        "    final_df.to_csv(category + \"_reviews.csv\", index=False, header=True)"
      ]
    }
  ],
  "metadata": {
    "kernelspec": {
      "display_name": "nlp",
      "language": "python",
      "name": "nlp"
    },
    "language_info": {
      "codemirror_mode": {
        "name": "ipython",
        "version": 3
      },
      "file_extension": ".py",
      "mimetype": "text/x-python",
      "name": "python",
      "nbconvert_exporter": "python",
      "pygments_lexer": "ipython3",
      "version": "3.10.8"
    },
    "orig_nbformat": 4,
    "colab": {
      "provenance": []
    }
  },
  "nbformat": 4,
  "nbformat_minor": 0
}